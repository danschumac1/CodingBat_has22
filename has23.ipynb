{
 "cells": [
  {
   "cell_type": "markdown",
   "id": "06a78f56",
   "metadata": {},
   "source": [
    "# List-1 > has23"
   ]
  },
  {
   "cell_type": "markdown",
   "id": "4cb9a3b8",
   "metadata": {},
   "source": [
    "Given an int array length 2, return True if it contains a 2 or a 3.\n",
    "\n",
    "\n",
    "has23([2, 5]) → True\n",
    "\n",
    "has23([4, 3]) → True\n",
    "\n",
    "has23([4, 5]) → False"
   ]
  },
  {
   "cell_type": "code",
   "execution_count": null,
   "id": "a596f7d6",
   "metadata": {},
   "outputs": [],
   "source": [
    "def has23(nums):\n",
    "  if 2 in nums or 3 in nums:\n",
    "    return True\n",
    "  else:\n",
    "    return False"
   ]
  }
 ],
 "metadata": {
  "kernelspec": {
   "display_name": "Python 3 (ipykernel)",
   "language": "python",
   "name": "python3"
  },
  "language_info": {
   "codemirror_mode": {
    "name": "ipython",
    "version": 3
   },
   "file_extension": ".py",
   "mimetype": "text/x-python",
   "name": "python",
   "nbconvert_exporter": "python",
   "pygments_lexer": "ipython3",
   "version": "3.9.12"
  }
 },
 "nbformat": 4,
 "nbformat_minor": 5
}
